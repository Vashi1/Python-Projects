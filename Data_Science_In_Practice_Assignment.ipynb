{
  "nbformat": 4,
  "nbformat_minor": 0,
  "metadata": {
    "colab": {
      "provenance": [],
      "include_colab_link": true
    },
    "kernelspec": {
      "name": "python3",
      "display_name": "Python 3"
    },
    "language_info": {
      "name": "python"
    }
  },
  "cells": [
    {
      "cell_type": "markdown",
      "metadata": {
        "id": "view-in-github",
        "colab_type": "text"
      },
      "source": [
        "<a href=\"https://colab.research.google.com/github/Vashi1/Python-Projects/blob/master/Data_Science_In_Practice_Assignment.ipynb\" target=\"_parent\"><img src=\"https://colab.research.google.com/assets/colab-badge.svg\" alt=\"Open In Colab\"/></a>"
      ]
    },
    {
      "cell_type": "markdown",
      "source": [
        "**Data Encapsulation and Data Abstraction:**\n",
        "\n",
        "\n",
        "**1. Create a class Student with attributes name (private), age (protected), and marks (public). Implement methods to set and get the values of the private and protected attributes. Create an instance of the class and demonstrate how to use these methods to access and modify the attributes.**\n",
        "\n",
        "**2. Create a base class Shape with a protected attribute area. Implement subclasses Circle and Rectangle that calculate their respective areas. Make use of protected members to store and access the calculated areas.**\n",
        "\n",
        "**3. Write a class Calculator that implements a method evaluate expression() to calculate the result of an arithmetic expression following the PEMDAS rule.**\n",
        "\n",
        "**4. Create a program that reads data from a CSV file named data.csv containing student names and their scores. Implement a class Student with attributes name and score. Read the data from the CSV file and create instances of the Student class for each student. Compute the average for the class using a numpy function**\n",
        "\n"
      ],
      "metadata": {
        "id": "ttNT5-SqC351"
      }
    },
    {
      "cell_type": "code",
      "source": [
        "class Student:\n",
        "  def __init__(self, name, age, marks):\n",
        "    self.__name = 'Rakshith'\n",
        "    self._age = 20\n",
        "    self.marks = 100\n",
        "  def set_name(self):\n",
        "    self.__name = \"Rakshith\"\n",
        "  def disp_name(self):\n",
        "    print(self.__name)\n",
        "  def set_age(self):\n",
        "    self._age = 18\n",
        "  def disp_age(self):\n",
        "    print(self._age)\n",
        "  def set_marks(self):\n",
        "    self.marks = 99\n",
        "  def disp_marks(self):\n",
        "    print(self.marks)\n",
        "\n",
        "a1 = Student(\"ARyan\", 29, 89)\n",
        "print(a1.marks)\n",
        "a1.set_name()\n",
        "a1.disp_name()\n",
        "a1.set_age()\n",
        "a1.disp_age()\n",
        "a1.set_marks()\n",
        "a1.disp_marks()"
      ],
      "metadata": {
        "id": "n5ZxbzmaGNEa",
        "colab": {
          "base_uri": "https://localhost:8080/"
        },
        "outputId": "576d345b-6043-478a-d943-c9c28a03aefb"
      },
      "execution_count": 13,
      "outputs": [
        {
          "output_type": "stream",
          "name": "stdout",
          "text": [
            "100\n",
            "Rakshith\n",
            "18\n",
            "99\n"
          ]
        }
      ]
    },
    {
      "cell_type": "code",
      "source": [
        "class Shape:\n",
        "  def __init__(self):\n",
        "    self._area = 100\n",
        "\n",
        "class Circle(Shape):\n",
        "  def __init__(self, radius):\n",
        "    Shape.__init__(self)\n",
        "    self.radius = radius\n",
        "  def dis_area(self):\n",
        "    self._area = 3.14 * self.radius ** 2\n",
        "    print(self._area)\n",
        "\n",
        "\n",
        "class Rectangle(Shape):\n",
        "  def __init__(self, length, breadth):\n",
        "    Shape.__init__(self)\n",
        "    self.length = length\n",
        "    self.breadth = breadth\n",
        "  def dis_area(self):\n",
        "    self._area = self.length * self.breadth\n",
        "    print(self._area)\n",
        "\n",
        "\n",
        "if __name__ == \"__main__\":\n",
        "  C1 = Circle(10)\n",
        "  C1.dis_area()\n",
        "  R1 = Rectangle(10, 20)\n",
        "  R1.dis_area()"
      ],
      "metadata": {
        "id": "R9i4p0hQGNUv",
        "colab": {
          "base_uri": "https://localhost:8080/"
        },
        "outputId": "cd136300-1726-4d87-c204-d6935a59228b"
      },
      "execution_count": 35,
      "outputs": [
        {
          "output_type": "stream",
          "name": "stdout",
          "text": [
            "314.0\n",
            "200\n"
          ]
        }
      ]
    },
    {
      "cell_type": "code",
      "source": [
        "class Calculator:\n",
        "  def __init__(self, opr1, opr2, exp):\n",
        "    self.opr1 = opr1\n",
        "    self.opr2 = opr2\n",
        "    self.exp = exp\n",
        "  def expression(self):\n",
        "    if self.exp == \"+\":\n",
        "      cal = self.opr1 + self.opr2\n",
        "    elif self.exp == \"-\":\n",
        "      cal = self.opr1 - self.opr2\n",
        "    elif self.exp == \"*\":\n",
        "      cal = self.opr1 * self.opr2\n",
        "    elif self.exp == \"/\":\n",
        "      if (self.opr2 == 0):\n",
        "        return \"Divide by Zero Error!\"\n",
        "      else:\n",
        "        cal = self.opr1 / self.opr2\n",
        "    return cal\n",
        "\n",
        "s1 = Calculator(2, 3, '+')\n",
        "a1 = s1.expression()\n",
        "print(a1)\n",
        "\n",
        "s2 = Calculator(10, 4, '/')\n",
        "print(s2.expression())"
      ],
      "metadata": {
        "id": "Uu2xvBtVGNdc",
        "colab": {
          "base_uri": "https://localhost:8080/"
        },
        "outputId": "eff7eb91-76dd-438f-f53d-ddfc4aae15c7"
      },
      "execution_count": null,
      "outputs": [
        {
          "output_type": "stream",
          "name": "stdout",
          "text": [
            "5\n",
            "2.5\n"
          ]
        }
      ]
    },
    {
      "cell_type": "markdown",
      "source": [
        "Create a program that reads data from a CSV file named data.csv containing student names and their scores. Implement a class Student with attributes name and score. Read the data from the CSV file and create instances of the Student class for each student. Compute the average for the class using a numpy function"
      ],
      "metadata": {
        "id": "fLOXFqtcNgCJ"
      }
    },
    {
      "cell_type": "code",
      "source": [
        "import csv"
      ],
      "metadata": {
        "id": "GnscEZqdGOKe"
      },
      "execution_count": null,
      "outputs": []
    },
    {
      "cell_type": "markdown",
      "source": [
        "**Welcome To Numpy**\n",
        "\n",
        "This assignment will help you the explore the Numpy library and its various uses. It would also cover some use cases about how numpy makes Machine Learning and Data Science calculations easy and fast. This assignment is made in order to encourage you to explore more and more builtin functions of this library and their usage. For all problems, you need to print the output.\n",
        "\n",
        "\n"
      ],
      "metadata": {
        "id": "Udk0cYE9mklm"
      }
    },
    {
      "cell_type": "markdown",
      "source": [
        "**Importing Numpy**\n",
        "\n",
        "The first step involves importing Numpy so that you can start using it right away. There are a lot of ways to do so depending upon how you want to use library or some functions of it. In general, we import it all together and in order to avoid writing numpy again and again, we abbreviate it in some form. For ex. np. Import the Numpy library as np in the below cell."
      ],
      "metadata": {
        "id": "uN0wapA3nxkp"
      }
    },
    {
      "cell_type": "code",
      "source": [
        "import numpy as np"
      ],
      "metadata": {
        "id": "8t0tLYdKnxCi"
      },
      "execution_count": null,
      "outputs": []
    },
    {
      "cell_type": "markdown",
      "source": [
        "**Arrays In Numpy**\n",
        "\n",
        "As already discussed in class, there are various ways of making numpy arrays. In the below cells we would test your ability to implement them correctly."
      ],
      "metadata": {
        "id": "owl28h2CpEXE"
      }
    },
    {
      "cell_type": "markdown",
      "source": [
        "**Create a numpy array of 1's of user defined dimensions**\n",
        "\n",
        "Take input for 2 dimensions : N and M, create a 2D matrix of 1's. Note : In general you can make numpy arrays of any number of dimensions. eg. 3, 4, and so on..."
      ],
      "metadata": {
        "id": "sjovULhrpXUS"
      }
    },
    {
      "cell_type": "code",
      "source": [
        "a = int(input(\"Enter the m dimension: \"))\n",
        "b = int(input(\"Enter the n dimension: \"))\n",
        "arr = np.ones((a, b))\n",
        "print(arr)"
      ],
      "metadata": {
        "id": "fUqg9t6fnvks",
        "colab": {
          "base_uri": "https://localhost:8080/"
        },
        "outputId": "a79bf3ea-d594-4873-a113-52b0f0ae7a98"
      },
      "execution_count": null,
      "outputs": [
        {
          "output_type": "stream",
          "name": "stdout",
          "text": [
            "Enter the m dimension: 5\n",
            "Enter the n dimension: 5\n",
            "[[1. 1. 1. 1. 1.]\n",
            " [1. 1. 1. 1. 1.]\n",
            " [1. 1. 1. 1. 1.]\n",
            " [1. 1. 1. 1. 1.]\n",
            " [1. 1. 1. 1. 1.]]\n"
          ]
        }
      ]
    },
    {
      "cell_type": "markdown",
      "source": [
        "**Create an empty array Using Numpy**\n",
        "\n",
        "When you print your array, you might see random values in your array. Repeat instructions as mentioned for previous cell.\n"
      ],
      "metadata": {
        "id": "Huvcf3hJq89u"
      }
    },
    {
      "cell_type": "code",
      "source": [
        "a = int(input(\"Enter the m dimension: \"))\n",
        "b = int(input(\"Enter the n dimension: \"))\n",
        "arr1 =np.empty((a, b))\n",
        "print(arr1)"
      ],
      "metadata": {
        "id": "Hy2DD2nHq8W9",
        "colab": {
          "base_uri": "https://localhost:8080/"
        },
        "outputId": "5f72994f-a983-4905-fcee-b269c5db3c9b"
      },
      "execution_count": null,
      "outputs": [
        {
          "output_type": "stream",
          "name": "stdout",
          "text": [
            "Enter the m dimension: 4\n",
            "Enter the n dimension: 3\n",
            "[[4.88733083e-310 0.00000000e+000 6.78152382e-310]\n",
            " [6.78152383e-310 6.78152382e-310 6.78152383e-310]\n",
            " [6.78152383e-310 6.78152382e-310 6.78152383e-310]\n",
            " [6.78152382e-310 4.88618452e-310 6.78157890e-310]]\n"
          ]
        }
      ]
    },
    {
      "cell_type": "markdown",
      "source": [
        "**Create a numpy array of 0's of user defined dimensions**\n",
        "\n",
        "Repeat instructions as mentioned previously\n"
      ],
      "metadata": {
        "id": "3dglTqmKsnKJ"
      }
    },
    {
      "cell_type": "code",
      "source": [
        "a = int(input(\"Enter the m dimension: \"))\n",
        "b = int(input(\"Enter the n dimension: \"))\n",
        "arr1 =np.zeros((a, b))\n",
        "print(arr1)"
      ],
      "metadata": {
        "id": "7GPN7yQyrFxt",
        "colab": {
          "base_uri": "https://localhost:8080/"
        },
        "outputId": "4647a960-efd9-4ecf-8f16-bd8d09d45da9"
      },
      "execution_count": null,
      "outputs": [
        {
          "output_type": "stream",
          "name": "stdout",
          "text": [
            "Enter the m dimension: 4\n",
            "Enter the n dimension: 4\n",
            "[[0. 0. 0. 0.]\n",
            " [0. 0. 0. 0.]\n",
            " [0. 0. 0. 0.]\n",
            " [0. 0. 0. 0.]]\n"
          ]
        }
      ]
    },
    {
      "cell_type": "markdown",
      "source": [
        "**Create a numpy array from numbers 1 to 10 using inbuilt functions**\n",
        "\n",
        "This task can be implemented using 2 functions : **arange()** and **linspace()**. You have to make use of both of them in cells given below"
      ],
      "metadata": {
        "id": "_MAwKZKGswaI"
      }
    },
    {
      "cell_type": "code",
      "source": [
        "n1 = np.arange(1, 11, 1)\n",
        "print(n1)"
      ],
      "metadata": {
        "id": "OIpMckO1tu9w",
        "colab": {
          "base_uri": "https://localhost:8080/"
        },
        "outputId": "d47b3006-04f1-413d-8863-9614eb2f03c8"
      },
      "execution_count": null,
      "outputs": [
        {
          "output_type": "stream",
          "name": "stdout",
          "text": [
            "[ 1  2  3  4  5  6  7  8  9 10]\n"
          ]
        }
      ]
    },
    {
      "cell_type": "code",
      "source": [
        "n2 = np.linspace(1, 10, 5)\n",
        "print(n2)"
      ],
      "metadata": {
        "id": "tTI7c37VtwGo",
        "colab": {
          "base_uri": "https://localhost:8080/"
        },
        "outputId": "ace2517f-6dbe-42f6-cc13-c6cbcd8caad0"
      },
      "execution_count": null,
      "outputs": [
        {
          "output_type": "stream",
          "name": "stdout",
          "text": [
            "[ 1.    3.25  5.5   7.75 10.  ]\n"
          ]
        }
      ]
    },
    {
      "cell_type": "markdown",
      "source": [
        "**Convert a simple list to array**\n",
        "\n",
        "Create a 1D list and a 2D list and convert them to numpy arrays. You need to print the type of both after conversion in order to check if they are really converted or not."
      ],
      "metadata": {
        "id": "ccVilYfttwgv"
      }
    },
    {
      "cell_type": "code",
      "source": [
        "l1 = [1, 2, 3, 4]\n",
        "print(\"Type of l1: \", type(l1))\n",
        "nx = np.asarray(l1)\n",
        "print(nx)\n",
        "print(\"Type of n1: \", type(nx))\n",
        "l2 = [[1, 2, 3], [4, 5, 6]]\n",
        "print(\"Type of l2: \", type(l2))\n",
        "ny = np.asarray(l2)\n",
        "print(ny)\n",
        "print(\"type of n2\", type(ny))"
      ],
      "metadata": {
        "id": "mex0-FdhuMtO",
        "colab": {
          "base_uri": "https://localhost:8080/"
        },
        "outputId": "12416d45-7ff7-492a-bbcf-4047ac37dcc9"
      },
      "execution_count": null,
      "outputs": [
        {
          "output_type": "stream",
          "name": "stdout",
          "text": [
            "Type of l1:  <class 'list'>\n",
            "[1 2 3 4]\n",
            "Type of n1:  <class 'numpy.ndarray'>\n",
            "Type of l2:  <class 'list'>\n",
            "[[1 2 3]\n",
            " [4 5 6]]\n",
            "type of n2 <class 'numpy.ndarray'>\n"
          ]
        }
      ]
    },
    {
      "cell_type": "code",
      "source": [],
      "metadata": {
        "id": "y5eM9eRcuf7J"
      },
      "execution_count": null,
      "outputs": []
    },
    {
      "cell_type": "markdown",
      "source": [
        "**Conversion Of Data Types in Numpy arrays**\n",
        "\n",
        "In this problem, you need to convert float numpy array to integer type and vice versa. You need to print the array after each conversion."
      ],
      "metadata": {
        "id": "2-MlpJL_ugeA"
      }
    },
    {
      "cell_type": "code",
      "source": [
        "a = [[1,2,3],[4,5,6]]"
      ],
      "metadata": {
        "id": "5moEhinwvdED"
      },
      "execution_count": null,
      "outputs": []
    },
    {
      "cell_type": "code",
      "source": [
        "n_a = np.asarray(a)\n",
        "print(n_a)\n",
        "print(type(n_a[0][0]))"
      ],
      "metadata": {
        "id": "DZTZhyryw5s0",
        "colab": {
          "base_uri": "https://localhost:8080/"
        },
        "outputId": "bb0bd0ea-4e9b-4f58-8d6e-46e62f6bb05f"
      },
      "execution_count": null,
      "outputs": [
        {
          "output_type": "stream",
          "name": "stdout",
          "text": [
            "[[1 2 3]\n",
            " [4 5 6]]\n",
            "<class 'numpy.int64'>\n"
          ]
        }
      ]
    },
    {
      "cell_type": "code",
      "source": [
        "a1 = np.ones((10, 10), dtype = np.float64)\n",
        "print(a1)\n",
        "print(type(n_a[0][0]))\n"
      ],
      "metadata": {
        "id": "6lsov9NDxFeV",
        "colab": {
          "base_uri": "https://localhost:8080/"
        },
        "outputId": "721be352-a8ee-4413-f01d-18fa78b4fc1a"
      },
      "execution_count": null,
      "outputs": [
        {
          "output_type": "stream",
          "name": "stdout",
          "text": [
            "[[1. 1. 1. 1. 1. 1. 1. 1. 1. 1.]\n",
            " [1. 1. 1. 1. 1. 1. 1. 1. 1. 1.]\n",
            " [1. 1. 1. 1. 1. 1. 1. 1. 1. 1.]\n",
            " [1. 1. 1. 1. 1. 1. 1. 1. 1. 1.]\n",
            " [1. 1. 1. 1. 1. 1. 1. 1. 1. 1.]\n",
            " [1. 1. 1. 1. 1. 1. 1. 1. 1. 1.]\n",
            " [1. 1. 1. 1. 1. 1. 1. 1. 1. 1.]\n",
            " [1. 1. 1. 1. 1. 1. 1. 1. 1. 1.]\n",
            " [1. 1. 1. 1. 1. 1. 1. 1. 1. 1.]\n",
            " [1. 1. 1. 1. 1. 1. 1. 1. 1. 1.]]\n",
            "<class 'numpy.int64'>\n"
          ]
        }
      ]
    },
    {
      "cell_type": "code",
      "source": [],
      "metadata": {
        "id": "w4lc3zKIx2Hh"
      },
      "execution_count": null,
      "outputs": []
    },
    {
      "cell_type": "code",
      "source": [],
      "metadata": {
        "id": "swqwFloIyxB7"
      },
      "execution_count": null,
      "outputs": []
    },
    {
      "cell_type": "markdown",
      "source": [
        "**Given below is an array of 20 elements. Convert this array into 2D matrices of dimensions 1 x 20, 2 x 10, 4 x 5, 5 x 4, 10 x 2 and 20 x 1**\n",
        "\n",
        "**For each given dimensions, you need to print the new array**\n",
        "\n",
        "**For the 1 x 20 array, print every third element using indexing & slicing**\n",
        "\n",
        "**Use the array splitter function for the 10 x 2 array having results with 3 elements**\n",
        "\n",
        "**Concatenate arrays 10 x 2 and 20 x 1 using concatenate(), hstack(),vstack, dstack() or using axis values, you may combine reshape() for either arrays so that all the functions work, provide comments while you stack arrays for the reader to have clarity for the steps**"
      ],
      "metadata": {
        "id": "URgzto4lzNpZ"
      }
    },
    {
      "cell_type": "code",
      "source": [],
      "metadata": {
        "id": "R5zyxpNO_QI3"
      },
      "execution_count": null,
      "outputs": []
    },
    {
      "cell_type": "code",
      "source": [
        "a = np.array([1,2,3,4,5,6,7,8,9,10,11,12,13,14,15,16,17,18,19,20])"
      ],
      "metadata": {
        "id": "UPEjfX9Jziy2"
      },
      "execution_count": null,
      "outputs": []
    },
    {
      "cell_type": "code",
      "source": [
        "a1 = np.reshape(a, (1, 20))\n",
        "print(a1)\n",
        "print(a1[0][: 20 : 3])"
      ],
      "metadata": {
        "id": "VWBy_47ez5eY",
        "colab": {
          "base_uri": "https://localhost:8080/"
        },
        "outputId": "3b22e6c3-8022-499f-eeb2-957e87ac4ac9"
      },
      "execution_count": null,
      "outputs": [
        {
          "output_type": "stream",
          "name": "stdout",
          "text": [
            "[[ 1  2  3  4  5  6  7  8  9 10 11 12 13 14 15 16 17 18 19 20]]\n",
            "[ 1  4  7 10 13 16 19]\n"
          ]
        }
      ]
    },
    {
      "cell_type": "code",
      "source": [
        "a2 = np.reshape(a, (2, 10))\n",
        "print(a2)\n",
        "a3 = np.reshape(a, (4, 5))\n",
        "print(a3)\n",
        "a4 = np.reshape(a, (5, 4))\n",
        "print(a4)\n",
        "a5 = np.reshape(a, (10, 2))\n",
        "print(a5)\n",
        "a6 = np.reshape(a, (20, 1))\n",
        "print(a6)"
      ],
      "metadata": {
        "id": "ZQAGLYbGz9xG",
        "colab": {
          "base_uri": "https://localhost:8080/"
        },
        "outputId": "2e107c66-2b00-4ed0-925c-eae9ad4588a9"
      },
      "execution_count": null,
      "outputs": [
        {
          "output_type": "stream",
          "name": "stdout",
          "text": [
            "[[ 1  2  3  4  5  6  7  8  9 10]\n",
            " [11 12 13 14 15 16 17 18 19 20]]\n",
            "[[ 1  2  3  4  5]\n",
            " [ 6  7  8  9 10]\n",
            " [11 12 13 14 15]\n",
            " [16 17 18 19 20]]\n",
            "[[ 1  2  3  4]\n",
            " [ 5  6  7  8]\n",
            " [ 9 10 11 12]\n",
            " [13 14 15 16]\n",
            " [17 18 19 20]]\n",
            "[[ 1  2]\n",
            " [ 3  4]\n",
            " [ 5  6]\n",
            " [ 7  8]\n",
            " [ 9 10]\n",
            " [11 12]\n",
            " [13 14]\n",
            " [15 16]\n",
            " [17 18]\n",
            " [19 20]]\n",
            "[[ 1]\n",
            " [ 2]\n",
            " [ 3]\n",
            " [ 4]\n",
            " [ 5]\n",
            " [ 6]\n",
            " [ 7]\n",
            " [ 8]\n",
            " [ 9]\n",
            " [10]\n",
            " [11]\n",
            " [12]\n",
            " [13]\n",
            " [14]\n",
            " [15]\n",
            " [16]\n",
            " [17]\n",
            " [18]\n",
            " [19]\n",
            " [20]]\n"
          ]
        }
      ]
    },
    {
      "cell_type": "markdown",
      "source": [
        "**Use the array splitter function for the 10 x 2 array having results with 3 elements**"
      ],
      "metadata": {
        "id": "2ytg3WAwWli0"
      }
    },
    {
      "cell_type": "code",
      "source": [
        "import numpy as np"
      ],
      "metadata": {
        "id": "X54XS2GBJ3v2"
      },
      "execution_count": null,
      "outputs": []
    },
    {
      "cell_type": "code",
      "source": [
        "l = np.array([[ 1,  2],[ 3,  4],[ 5,  6],[ 7,  8],[ 9, 10],[11, 12],[13, 14],[15, 16],[17, 18],[19, 20]])\n",
        "a5_1 = np.array_split(l, 3)\n",
        "for i in a5_1:\n",
        "  print(i)\n"
      ],
      "metadata": {
        "id": "JEZPIffz0JNw",
        "colab": {
          "base_uri": "https://localhost:8080/"
        },
        "outputId": "346cb38d-242d-4077-cb58-3810b9574d5c"
      },
      "execution_count": null,
      "outputs": [
        {
          "output_type": "stream",
          "name": "stdout",
          "text": [
            "[[1 2]\n",
            " [3 4]\n",
            " [5 6]\n",
            " [7 8]]\n",
            "[[ 9 10]\n",
            " [11 12]\n",
            " [13 14]]\n",
            "[[15 16]\n",
            " [17 18]\n",
            " [19 20]]\n"
          ]
        }
      ]
    },
    {
      "cell_type": "markdown",
      "source": [
        "**Find maximum element in array and print its value and its index using numpy inbuilt functions**"
      ],
      "metadata": {
        "id": "DP_fngKn0Okk"
      }
    },
    {
      "cell_type": "code",
      "source": [
        "a = np.array([100,40,30,106,4589,2,34,76,9777,1023,56,62,395])"
      ],
      "metadata": {
        "id": "vARhjyy80uZa"
      },
      "execution_count": null,
      "outputs": []
    },
    {
      "cell_type": "code",
      "source": [
        "ma = np.max(a)\n",
        "print(ma)\n",
        "l = np.where(ma)\n",
        "print(l)"
      ],
      "metadata": {
        "id": "UW0YWRPx1CUW",
        "colab": {
          "base_uri": "https://localhost:8080/"
        },
        "outputId": "e4fc726d-994b-4d9a-b450-04ba0804bca0"
      },
      "execution_count": null,
      "outputs": [
        {
          "output_type": "stream",
          "name": "stdout",
          "text": [
            "9777\n",
            "(array([0]),)\n"
          ]
        }
      ]
    },
    {
      "cell_type": "markdown",
      "source": [
        "**Print Dimensions Of The Given Array, shape of the array and size**\n",
        "\n",
        "**Iterate through the array 'a' skipping a value and printing the next value.**\n",
        "\n",
        "**Implement reshape on this array with your choice of parameters (not 1D)**\n",
        "\n",
        "**Make a 1D array also and sort the array, then find the indices of values ==6 using numpy functions**\n",
        "\n",
        "**On the 1D array, implement a numpy function to print values only above 100**\n",
        "\n"
      ],
      "metadata": {
        "id": "bPmS_0Bi1KfC"
      }
    },
    {
      "cell_type": "code",
      "source": [
        "a = np.array([[1,2,3],[4,5,6],[6,7,8],[7,8,9],[10,102,546]])\n",
        "print('shape: ', np.shape(a))\n",
        "print(\"size: \", np.size(a))"
      ],
      "metadata": {
        "id": "ynA4KebV1bgs",
        "colab": {
          "base_uri": "https://localhost:8080/"
        },
        "outputId": "ca20465a-9882-4539-f7a8-0110aa35ba5a"
      },
      "execution_count": null,
      "outputs": [
        {
          "output_type": "stream",
          "name": "stdout",
          "text": [
            "shape:  (5, 3)\n",
            "size:  15\n"
          ]
        }
      ]
    },
    {
      "cell_type": "code",
      "source": [
        "s, _ = np.shape(a)\n",
        "for i in range(0, s, 2):\n",
        "  print(a[i])"
      ],
      "metadata": {
        "id": "sWyvAJ681xcj",
        "colab": {
          "base_uri": "https://localhost:8080/"
        },
        "outputId": "23444245-ee8d-4889-d8f2-9cd2c9f2e20a"
      },
      "execution_count": null,
      "outputs": [
        {
          "output_type": "stream",
          "name": "stdout",
          "text": [
            "[1 2 3]\n",
            "[6 7 8]\n",
            "[ 10 102 546]\n"
          ]
        }
      ]
    },
    {
      "cell_type": "code",
      "source": [
        "b1 = np.reshape(a, (5, 3))\n",
        "print(b1)"
      ],
      "metadata": {
        "id": "9ZCE57ex4gq4",
        "colab": {
          "base_uri": "https://localhost:8080/"
        },
        "outputId": "5070ab7e-f3f2-4e01-a9b0-cc9b63f21464"
      },
      "execution_count": null,
      "outputs": [
        {
          "output_type": "stream",
          "name": "stdout",
          "text": [
            "[[  1   2   3]\n",
            " [  4   5   6]\n",
            " [  6   7   8]\n",
            " [  7   8   9]\n",
            " [ 10 102 546]]\n"
          ]
        }
      ]
    },
    {
      "cell_type": "code",
      "source": [
        "c1 = np.sort(a)\n",
        "print(c1)\n",
        "e1 = np.reshape(a, (15, ))\n",
        "print(\"reshaped array: \", e1)\n",
        "d1 = np.where(e1 == 6)\n",
        "print(d1)"
      ],
      "metadata": {
        "id": "VrqEZefcGSbn",
        "colab": {
          "base_uri": "https://localhost:8080/"
        },
        "outputId": "72908b92-9262-4ba6-9f97-f90e330606c9"
      },
      "execution_count": null,
      "outputs": [
        {
          "output_type": "stream",
          "name": "stdout",
          "text": [
            "[[  1   2   3]\n",
            " [  4   5   6]\n",
            " [  6   7   8]\n",
            " [  7   8   9]\n",
            " [ 10 102 546]]\n",
            "reshaped array:  [  1   2   3   4   5   6   6   7   8   7   8   9  10 102 546]\n",
            "(array([5, 6]),)\n"
          ]
        }
      ]
    },
    {
      "cell_type": "code",
      "source": [
        "print(e1[e1 > 100])"
      ],
      "metadata": {
        "id": "qlq6Hk9oGSx4",
        "colab": {
          "base_uri": "https://localhost:8080/"
        },
        "outputId": "4d1ff92c-52b3-45ed-deae-c258302f65ca"
      },
      "execution_count": null,
      "outputs": [
        {
          "output_type": "stream",
          "name": "stdout",
          "text": [
            "[102 546]\n"
          ]
        }
      ]
    },
    {
      "cell_type": "code",
      "source": [],
      "metadata": {
        "id": "xjLxz1eiGTYv"
      },
      "execution_count": null,
      "outputs": []
    },
    {
      "cell_type": "markdown",
      "source": [
        "**Create a NumPy array with the integers from your birthdate (year, month, and day)**\n",
        "\n",
        "**Retrieve the year.**\n",
        "\n",
        "**Replace the year with the current year**\n",
        "\n",
        "**Create a NumPy array containing every 3rd number from 567 to 890. What is the 8th number in this array?  What is the 15th?**"
      ],
      "metadata": {
        "id": "vORRRv0816qS"
      }
    },
    {
      "cell_type": "code",
      "source": [
        "d0b = np.array([2003, 8, 5])\n",
        "print(d0b)"
      ],
      "metadata": {
        "id": "bflW-Wwb2Xua",
        "colab": {
          "base_uri": "https://localhost:8080/"
        },
        "outputId": "e0df7195-5805-4824-a432-ed52ee8a09f6"
      },
      "execution_count": null,
      "outputs": [
        {
          "output_type": "stream",
          "name": "stdout",
          "text": [
            "[2003    8    5]\n"
          ]
        }
      ]
    },
    {
      "cell_type": "code",
      "source": [
        "year = d0b[0]\n",
        "print(year)"
      ],
      "metadata": {
        "id": "G-Fq7U6jGWbI",
        "colab": {
          "base_uri": "https://localhost:8080/"
        },
        "outputId": "a003f374-f7d8-4fa9-f538-365a8826cc18"
      },
      "execution_count": null,
      "outputs": [
        {
          "output_type": "stream",
          "name": "stdout",
          "text": [
            "2003\n"
          ]
        }
      ]
    },
    {
      "cell_type": "code",
      "source": [
        "d0b[0] = 2003\n",
        "print(d0b)"
      ],
      "metadata": {
        "id": "iI3aRu79GWj0",
        "colab": {
          "base_uri": "https://localhost:8080/"
        },
        "outputId": "27c0f860-cee1-4a6c-90de-a5ffdf999955"
      },
      "execution_count": null,
      "outputs": [
        {
          "output_type": "stream",
          "name": "stdout",
          "text": [
            "[2003    8    5]\n"
          ]
        }
      ]
    },
    {
      "cell_type": "code",
      "source": [
        "n9 = np.arange(567, 890, 3)\n",
        "print(n9)\n",
        "print(\"The 8th and 15th elements are: \")\n",
        "print(n9[7], n9[14])"
      ],
      "metadata": {
        "id": "nDSzTgiLGWte",
        "colab": {
          "base_uri": "https://localhost:8080/"
        },
        "outputId": "bf3ec793-5a88-4ae3-a62f-b661bcb51b4f"
      },
      "execution_count": null,
      "outputs": [
        {
          "output_type": "stream",
          "name": "stdout",
          "text": [
            "[567 570 573 576 579 582 585 588 591 594 597 600 603 606 609 612 615 618\n",
            " 621 624 627 630 633 636 639 642 645 648 651 654 657 660 663 666 669 672\n",
            " 675 678 681 684 687 690 693 696 699 702 705 708 711 714 717 720 723 726\n",
            " 729 732 735 738 741 744 747 750 753 756 759 762 765 768 771 774 777 780\n",
            " 783 786 789 792 795 798 801 804 807 810 813 816 819 822 825 828 831 834\n",
            " 837 840 843 846 849 852 855 858 861 864 867 870 873 876 879 882 885 888]\n",
            "The 8th and 15th elements are: \n",
            "588 609\n"
          ]
        }
      ]
    },
    {
      "cell_type": "markdown",
      "source": [
        "**Evaluate (PEMDAS):**\n",
        "1. ((((12+7)*2)-4)/2)-13\n",
        "2. 5+5/5\n",
        "3. 2*5//4\n",
        "4. 2\\*\\*3\\*\\*2\n",
        "5. (2\\*\\*3)\\*\\*2"
      ],
      "metadata": {
        "id": "jb9XY6DxVhVa"
      }
    },
    {
      "cell_type": "code",
      "source": [
        "print(((((12+7)*2)-4)/2)-13)"
      ],
      "metadata": {
        "id": "J1E-tyIhGX9Q",
        "colab": {
          "base_uri": "https://localhost:8080/"
        },
        "outputId": "9c65b270-d1f2-4a4f-c202-e417cbcc0e05"
      },
      "execution_count": null,
      "outputs": [
        {
          "output_type": "stream",
          "name": "stdout",
          "text": [
            "4.0\n"
          ]
        }
      ]
    },
    {
      "cell_type": "code",
      "source": [
        "print(5 + 5 / 5)"
      ],
      "metadata": {
        "id": "BE1gltg6GYGb",
        "colab": {
          "base_uri": "https://localhost:8080/"
        },
        "outputId": "f7034b96-c0cb-4790-c80c-e6ba70093b0f"
      },
      "execution_count": null,
      "outputs": [
        {
          "output_type": "stream",
          "name": "stdout",
          "text": [
            "6.0\n"
          ]
        }
      ]
    },
    {
      "cell_type": "code",
      "source": [
        "print(2 * 5 // 4)"
      ],
      "metadata": {
        "id": "nSYbW9bbGYOx",
        "colab": {
          "base_uri": "https://localhost:8080/"
        },
        "outputId": "67abf8e5-447e-4a03-9697-61a503d29b94"
      },
      "execution_count": null,
      "outputs": [
        {
          "output_type": "stream",
          "name": "stdout",
          "text": [
            "2\n"
          ]
        }
      ]
    },
    {
      "cell_type": "code",
      "source": [
        "print(2 ** 3 ** 2)"
      ],
      "metadata": {
        "id": "CdWxWF9jGYXp",
        "colab": {
          "base_uri": "https://localhost:8080/"
        },
        "outputId": "eb6c594a-565d-4931-b165-22dc15c5320b"
      },
      "execution_count": null,
      "outputs": [
        {
          "output_type": "stream",
          "name": "stdout",
          "text": [
            "512\n"
          ]
        }
      ]
    },
    {
      "cell_type": "code",
      "source": [
        "print((2 ** 3) ** 2)"
      ],
      "metadata": {
        "id": "0UzaLAjcGYgT",
        "colab": {
          "base_uri": "https://localhost:8080/"
        },
        "outputId": "c203c73d-dfb9-41af-c9eb-d8f68bc17eb0"
      },
      "execution_count": null,
      "outputs": [
        {
          "output_type": "stream",
          "name": "stdout",
          "text": [
            "64\n"
          ]
        }
      ]
    }
  ]
}